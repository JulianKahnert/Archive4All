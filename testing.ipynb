{
 "cells": [
  {
   "cell_type": "code",
   "execution_count": null,
   "metadata": {
    "collapsed": false
   },
   "outputs": [],
   "source": [
    "%load_ext autoreload\n",
    "%autoreload 2\n",
    "\n",
    "from datetime import datetime, date\n",
    "\n",
    "from Archiv4All import file\n",
    "\n",
    "obj = file('~/Downloads/test_scan/scan_combined_1.pdf')\n",
    "\n",
    "obj.date = datetime.now()\n",
    "obj.name = 'das hier ist ein test'\n",
    "obj.tags = obj._config_tags\n",
    "\n",
    "print(obj.tags)\n",
    "#obj.write_file()"
   ]
  }
 ],
 "metadata": {
  "kernelspec": {
   "display_name": "Python 3",
   "language": "python",
   "name": "python3"
  },
  "language_info": {
   "codemirror_mode": {
    "name": "ipython",
    "version": 3
   },
   "file_extension": ".py",
   "mimetype": "text/x-python",
   "name": "python",
   "nbconvert_exporter": "python",
   "pygments_lexer": "ipython3",
   "version": "3.5.2"
  }
 },
 "nbformat": 4,
 "nbformat_minor": 1
}
